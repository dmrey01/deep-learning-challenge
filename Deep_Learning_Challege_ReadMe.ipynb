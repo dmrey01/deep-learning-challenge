{
  "nbformat": 4,
  "nbformat_minor": 0,
  "metadata": {
    "colab": {
      "provenance": [],
      "collapsed_sections": [
        "yNkz_aiu2BE9"
      ],
      "authorship_tag": "ABX9TyP4b24HcvdHfz7jfb7mKcOb",
      "include_colab_link": true
    },
    "kernelspec": {
      "name": "python3",
      "display_name": "Python 3"
    },
    "language_info": {
      "name": "python"
    }
  },
  "cells": [
    {
      "cell_type": "markdown",
      "metadata": {
        "id": "view-in-github",
        "colab_type": "text"
      },
      "source": [
        "<a href=\"https://colab.research.google.com/github/dmrey01/deep-learning-challenge/blob/main/Deep_Learning_Challege_ReadMe.ipynb\" target=\"_parent\"><img src=\"https://colab.research.google.com/assets/colab-badge.svg\" alt=\"Open In Colab\"/></a>"
      ]
    },
    {
      "cell_type": "code",
      "execution_count": null,
      "metadata": {
        "id": "JO3udM5Y1qxN"
      },
      "outputs": [],
      "source": []
    },
    {
      "cell_type": "markdown",
      "source": [
        "# Module 21 Challenge - Deep Learning Challenge"
      ],
      "metadata": {
        "id": "yNkz_aiu2BE9"
      }
    },
    {
      "cell_type": "markdown",
      "source": [],
      "metadata": {
        "id": "kW8zMxOtJwki"
      }
    },
    {
      "cell_type": "markdown",
      "source": [],
      "metadata": {
        "id": "z7rIMlr3Jwhj"
      }
    },
    {
      "cell_type": "code",
      "source": [],
      "metadata": {
        "id": "gF3qGvEcEt9I"
      },
      "execution_count": null,
      "outputs": []
    },
    {
      "cell_type": "markdown",
      "source": [
        "##Analysis Overviews\n",
        "The objective of this analysis is to create and assess a deep learning model using a neural network approach for Alphabet Soup.  The goal is to predict the success of funding appling based on various features providedin the dataset.  THrough training and optimizing the neural network model, our goal is to achieve a high level of predictive accuracy to aid Alphabet Soup in making well-infomred decisions reagrding funding allociatons."
      ],
      "metadata": {
        "id": "N1ffEelL1yTH"
      }
    },
    {
      "cell_type": "markdown",
      "source": [
        "# Data Preprocessing:\n",
        "\n",
        "Target Variable(s)\n",
        "\n",
        "*    The target variable for our model is the \"IS_SUCCESSFUL\" column, which\n",
        "     indicates whether a funding application was successful(1) or not successful(0).\n",
        "\n",
        "Feature Variable(s):\n",
        "\n",
        "*    The features for our model consist of several columns, including          \n",
        "     \"APPLICATION_TYPE\", \"FFILIATION\", \"CLASSIFICATION,\" \"USE_CASE\", and\n",
        "     \"ORAGNAIZATION\".\n",
        "\n",
        "Variables to Remove:\n",
        "*    The variables \"EIN\" and \"NAME\" were eliminated form teh input data as they\n",
        "     do not serve as targets or featues."
      ],
      "metadata": {
        "id": "fcU62YMNK7cT"
      }
    },
    {
      "cell_type": "markdown",
      "source": [
        "# Model Compilation, Training, and Evaluation:\n",
        "\n",
        "Neurons, Layers and Activation Functions:\n",
        "*   In this model we opted for a neuroal networkarchitecture comprising of twp hidden layers, containing 40 and 35 neurons.  The RELU activation functioan was chosen for each hidden layer due to its effectiveness in handling nonlinear reationships.  \n",
        "\n",
        "Target Model Performance:\n",
        "*      Despite numerous attempts to optimize the model we were unable to  \n",
        "      achieve the desired level of moedel performance at 75%. Hte accuracy of the model remained below the target threshold.\n",
        "\n",
        "  Attempts to Increase Model Performance;\n",
        "  * If more time allowed I would have have considered playing with different optimizers which then could possiblly imporved the outcome more.  \n"
      ],
      "metadata": {
        "id": "bLaSr16oIC4L"
      }
    },
    {
      "cell_type": "markdown",
      "source": [],
      "metadata": {
        "id": "Wc-0_YxJLuQR"
      }
    },
    {
      "cell_type": "code",
      "source": [],
      "metadata": {
        "id": "aYiarsXiLzMr"
      },
      "execution_count": null,
      "outputs": []
    },
    {
      "cell_type": "markdown",
      "source": [
        "# Steps Taken to Increase Model Performance:\n",
        "\n",
        "Feature Engineering\n",
        "*   While I consider using one-hot encoding for categorical variable, I\n",
        "    eventually opted for the label encoding due to the large number of unique categories in some features.  Label encoding was chosen as a more efficient alternative, although it may not capture all categorical relationships as effectively as one- hot encoding.  \n",
        "\n",
        "Mddel Tuning:  \n",
        "*   Hyperparameter tuning was performed by adjusting the number of neurons,\n",
        "    layers and activation functions.  I also experimented with different optimization algorithms and learning rates.\n",
        "\n",
        "Regularization Techniques:\n",
        "*   We tried taking the approach of adding more neurons, more more layer and chnge the activation functions.  However with all these efforts We still come up short on meeting the threshold.\n",
        "\n",
        "\n"
      ],
      "metadata": {
        "id": "MEvjcFuwLvQq"
      }
    },
    {
      "cell_type": "code",
      "source": [],
      "metadata": {
        "id": "1ke0cBG0D12V"
      },
      "execution_count": null,
      "outputs": []
    },
    {
      "cell_type": "markdown",
      "source": [],
      "metadata": {
        "id": "wUErQF3RSC0_"
      }
    },
    {
      "cell_type": "markdown",
      "source": [
        "# Conclusion:\n",
        "\n",
        "* While the neural network model provided a foundation of predicting funding success, it did not the predefined goal of achieving greater thatn 75% accuracy.  \n",
        "\n",
        "* Further refinement and evaluation, including more testing and posible exploring other alternative modeling approaches, are necessary to enhance th emodel's predicitive capabilities for the Alphabet oups' funding decisions."
      ],
      "metadata": {
        "id": "UqTlZqi7SEC8"
      }
    },
    {
      "cell_type": "markdown",
      "source": [],
      "metadata": {
        "id": "Ne5c0zzzHnA7"
      }
    },
    {
      "cell_type": "markdown",
      "source": [],
      "metadata": {
        "id": "YL8krwH5D63G"
      }
    }
  ]
}